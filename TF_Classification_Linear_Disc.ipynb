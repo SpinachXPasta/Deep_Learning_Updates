{
 "cells": [
  {
   "cell_type": "code",
   "execution_count": 305,
   "metadata": {},
   "outputs": [],
   "source": [
    "import numpy as np\n",
    "import matplotlib.pyplot as plt\n",
    "import pandas\n",
    "import math\n",
    "import tensorflow.compat.v1 as tf\n",
    "#For Compatibility with older code.\n",
    "tf.disable_eager_execution()"
   ]
  },
  {
   "cell_type": "code",
   "execution_count": 306,
   "metadata": {},
   "outputs": [],
   "source": [
    "from sklearn.datasets import *\n",
    "from sklearn.preprocessing import minmax_scale"
   ]
  },
  {
   "cell_type": "code",
   "execution_count": 307,
   "metadata": {},
   "outputs": [],
   "source": [
    "features,target = make_blobs(n_samples = 100,n_features=2,centers=2,random_state=75,cluster_std = 5)"
   ]
  },
  {
   "cell_type": "code",
   "execution_count": 308,
   "metadata": {},
   "outputs": [],
   "source": [
    "target = tf.keras.utils.to_categorical(target)"
   ]
  },
  {
   "cell_type": "code",
   "execution_count": 309,
   "metadata": {},
   "outputs": [],
   "source": [
    "features = minmax_scale(features)\n",
    "k = int(len(features)*0.6)"
   ]
  },
  {
   "cell_type": "code",
   "execution_count": 310,
   "metadata": {},
   "outputs": [],
   "source": [
    "X_train,Y_train = features[0:k,:],target[0:k]\n",
    "X_test,Y_test = features[k:,:],target[k:]"
   ]
  },
  {
   "cell_type": "code",
   "execution_count": 313,
   "metadata": {},
   "outputs": [
    {
     "data": {
      "image/png": "[encoded data removed]",
      "text/plain": [
       "<Figure size 432x288 with 1 Axes>"
      ]
     },
     "metadata": {
      "needs_background": "light"
     },
     "output_type": "display_data"
    }
   ],
   "source": [
    "plt.scatter(X_train[:,0],X_train[:,1], c = Y_train[:,1], cmap = \"coolwarm\")\n",
    "plt.show()"
   ]
  },
  {
   "cell_type": "code",
   "execution_count": 314,
   "metadata": {},
   "outputs": [],
   "source": [
    "# Define data size and batch size\n",
    "n_samples = 1000 \n",
    "batch_size = 100\n",
    "n_features = 2"
   ]
  },
  {
   "cell_type": "code",
   "execution_count": 342,
   "metadata": {
    "scrolled": true
   },
   "outputs": [
    {
     "name": "stdout",
     "output_type": "stream",
     "text": [
      "[0.7240766 0.7240767]\n",
      "[0.71491903 0.7201818 ]\n",
      "[0.70671165 0.7164752 ]\n",
      "[0.69969255 0.71298295]\n",
      "[0.6939743 0.709719 ]\n",
      "[0.6895389  0.70668095]\n",
      "[0.686259  0.7038454]\n",
      "[0.6839384  0.70117086]\n",
      "[0.6823585 0.6986086]\n",
      "[0.681315 0.696114]\n",
      "[0.6806372  0.69365436]\n",
      "[0.6801938 0.6912081]\n",
      "[0.679889  0.6887623]\n",
      "[0.67965686 0.68630904]\n",
      "[0.6794514  0.68384475]\n",
      "[0.6792425 0.6813684]\n",
      "[0.6790093  0.67888206]\n",
      "[0.67873794 0.67639077]\n",
      "[0.67841905 0.6739019 ]\n",
      "[0.67804545 0.67142516]\n",
      "[0.6776126 0.6689717]\n",
      "[0.6771161 0.6665529]\n",
      "[0.6765532  0.66417944]\n",
      "[0.6759214 0.6618603]\n",
      "[0.6752183  0.65960085]\n",
      "[0.67444307 0.6574032 ]\n",
      "[0.6735952 0.6552651]\n",
      "[0.67267483 0.65318125]\n",
      "[0.6716837 0.6511443]\n",
      "[0.6706255 0.6491463]\n",
      "[0.66950446 0.647181  ]\n",
      "[0.66832805 0.6452444 ]\n",
      "[0.6671053 0.6433357]\n",
      "[0.66584677 0.6414569 ]\n",
      "[0.66456544 0.63961315]\n",
      "[0.6632749 0.6378095]\n",
      "[0.6619886 0.6360505]\n",
      "[0.660719   0.63434047]\n",
      "[0.6594759 0.6326803]\n",
      "[0.6582642  0.63106924]\n",
      "[0.6570845 0.6295053]\n",
      "[0.65593135 0.6279844 ]\n",
      "[0.6547944 0.6265033]\n",
      "[0.6536592 0.6250589]\n",
      "[0.6525107  0.62364936]\n",
      "[0.65133387 0.62227374]\n",
      "[0.650118 0.620932]\n",
      "[0.6488573  0.61962485]\n",
      "[0.64755213 0.61835295]\n",
      "[0.6462085 0.6171165]\n",
      "[0.64483625 0.6159153 ]\n",
      "[0.6434478  0.61474836]\n",
      "[0.64205575 0.613614  ]\n",
      "[0.6406712 0.6125107]\n",
      "[0.63930243 0.6114363 ]\n",
      "[0.6379541 0.6103893]\n",
      "[0.6366282 0.6093686]\n",
      "[0.6353237 0.608373 ]\n",
      "[0.6340381 0.6074026]\n",
      "[0.6327683  0.60645664]\n",
      "[0.6315107  0.60553473]\n",
      "[0.6302637  0.60463715]\n",
      "[0.6290259 0.6037624]\n",
      "[0.6277974 0.6029102]\n",
      "[0.6265796  0.60207933]\n",
      "[0.62537485 0.6012689 ]\n",
      "[0.6241855  0.60047823]\n",
      "[0.6230145  0.59970605]\n",
      "[0.62186366 0.59895194]\n",
      "[0.6207351 0.5982152]\n",
      "[0.6196292 0.5974956]\n",
      "[0.61854607 0.59679264]\n",
      "[0.61748534 0.5961057 ]\n",
      "[0.6164458 0.5954348]\n",
      "[0.61542594 0.59477884]\n",
      "[0.61442536 0.5941374 ]\n",
      "[0.61344254 0.5935099 ]\n",
      "[0.61247754 0.5928961 ]\n",
      "[0.61152965 0.5922951 ]\n",
      "[0.6105997 0.5917069]\n",
      "[0.609688   0.59113044]\n",
      "[0.6087942  0.59056604]\n",
      "[0.6079193 0.5900129]\n",
      "[0.607063   0.58947104]\n",
      "[0.60622567 0.5889401 ]\n",
      "[0.60540646 0.58841956]\n",
      "[0.60460496 0.5879093 ]\n",
      "[0.6038207 0.5874084]\n",
      "[0.6030531 0.5869175]\n",
      "[0.60230154 0.58643544]\n",
      "[0.60156566 0.5859625 ]\n",
      "[0.6008447  0.58549815]\n",
      "[0.6001386 0.5850422]\n",
      "[0.59944683 0.58459437]\n",
      "[0.5987696  0.58415467]\n",
      "[0.59810615 0.58372235]\n",
      "[0.5974566 0.5832977]\n",
      "[0.5968203  0.58288044]\n",
      "[0.59619755 0.5824701 ]\n",
      "[0.5955875  0.58206666]\n"
     ]
    }
   ],
   "source": [
    "tf.reset_default_graph()\n",
    "\n",
    "\n",
    "# Define placeholders for input\n",
    "X = tf.placeholder(tf.float32, shape=(None, n_features)) \n",
    "y = tf.placeholder(tf.float32, shape=(None, 2)) \n",
    "\n",
    "\n",
    "with tf.variable_scope(\"linear-regression\", reuse=tf.AUTO_REUSE):\n",
    "    W = tf.Variable(tf.zeros([2,2]))\n",
    "\n",
    "    b = tf.Variable(tf.zeros([2])) \n",
    "\n",
    "    y_pred = tf.nn.sigmoid(tf.add(tf.matmul(X, W),b))\n",
    "\n",
    "\n",
    "    loss = tf.nn.sigmoid_cross_entropy_with_logits(labels=y, logits=y_pred)\n",
    "\n",
    "        \n",
    " \n",
    "\n",
    "# Sample code to run full gradient descent:\n",
    "# Define optimizer operation\n",
    "opt_operation = tf.train.AdamOptimizer(learning_rate=0.1).minimize(loss)\n",
    "\n",
    "with tf.Session() as sess:\n",
    "# Initialize Variables in graph \n",
    "    sess.run(tf.initialize_all_variables()) \n",
    "    # Gradient descent loop for 500 steps \n",
    "    for _ in range(100):\n",
    "        # Select random minibatch\n",
    "        #indices = np.random.choice(len(X_train), batch_size)\n",
    "        X_batch, y_batch = X_train, Y_train#.reshape(-1,1)\n",
    "        # Do gradient descent step\n",
    "        _, loss_val,p = sess.run([opt_operation, loss,y_pred], feed_dict={X: X_batch, y: y_batch})\n",
    "        print (np.mean(loss_val, axis = 0))\n",
    "        Weight = sess.run(W)\n",
    "        Bias = sess.run(b)"
   ]
  },
  {
   "cell_type": "code",
   "execution_count": 336,
   "metadata": {},
   "outputs": [
    {
     "data": {
      "text/plain": [
       "array([[0., 1.],\n",
       "       [0., 1.],\n",
       "       [0., 1.],\n",
       "       [1., 0.],\n",
       "       [1., 0.],\n",
       "       [0., 1.],\n",
       "       [1., 0.],\n",
       "       [0., 1.],\n",
       "       [1., 0.],\n",
       "       [0., 1.],\n",
       "       [1., 0.],\n",
       "       [0., 1.],\n",
       "       [0., 1.],\n",
       "       [1., 0.],\n",
       "       [1., 0.],\n",
       "       [1., 0.],\n",
       "       [1., 0.],\n",
       "       [0., 1.],\n",
       "       [1., 0.],\n",
       "       [1., 0.],\n",
       "       [1., 0.],\n",
       "       [0., 1.],\n",
       "       [0., 1.],\n",
       "       [1., 0.],\n",
       "       [1., 0.],\n",
       "       [1., 0.],\n",
       "       [0., 1.],\n",
       "       [1., 0.],\n",
       "       [1., 0.],\n",
       "       [0., 1.],\n",
       "       [0., 1.],\n",
       "       [1., 0.],\n",
       "       [0., 1.],\n",
       "       [1., 0.],\n",
       "       [0., 1.],\n",
       "       [1., 0.],\n",
       "       [0., 1.],\n",
       "       [0., 1.],\n",
       "       [0., 1.],\n",
       "       [0., 1.],\n",
       "       [0., 1.],\n",
       "       [0., 1.],\n",
       "       [0., 1.],\n",
       "       [1., 0.],\n",
       "       [1., 0.],\n",
       "       [1., 0.],\n",
       "       [1., 0.],\n",
       "       [1., 0.],\n",
       "       [0., 1.],\n",
       "       [0., 1.],\n",
       "       [1., 0.],\n",
       "       [0., 1.],\n",
       "       [1., 0.],\n",
       "       [0., 1.],\n",
       "       [0., 1.],\n",
       "       [1., 0.],\n",
       "       [0., 1.],\n",
       "       [0., 1.],\n",
       "       [1., 0.],\n",
       "       [1., 0.]], dtype=float32)"
      ]
     },
     "execution_count": 336,
     "metadata": {},
     "output_type": "execute_result"
    }
   ],
   "source": [
    "Y_train# - 1 / (1 + np.exp(-X_batch.dot(np.array([[1,1],[1,1]]))+ np.array([2,2])))"
   ]
  },
  {
   "cell_type": "code",
   "execution_count": 327,
   "metadata": {},
   "outputs": [
    {
     "data": {
      "image/png": "[encoded data removed]",
      "text/plain": [
       "<Figure size 432x288 with 1 Axes>"
      ]
     },
     "metadata": {
      "needs_background": "light"
     },
     "output_type": "display_data"
    }
   ],
   "source": [
    "def linear_disc(x1,wx1,wx2,bias):\n",
    "    return (-wx1*x1 + (-bias))/(wx2)\n",
    "\n",
    "\n",
    "Weight_X1,Weight_X2 = Weight[1]\n",
    "\n",
    "B = Bias[1]\n",
    "\n",
    "g = np.linspace(0,1,10)\n",
    "gp = linear_disc(g,Weight_X1,Weight_X2,B)\n",
    "plt.scatter(X_train[:,0],X_train[:,1], c = Y_train[:,1], cmap = \"coolwarm\")\n",
    "plt.plot(g,gp, c = 'red')\n",
    "plt.show()"
   ]
  },
  {
   "cell_type": "code",
   "execution_count": 321,
   "metadata": {},
   "outputs": [
    {
     "data": {
      "text/plain": [
       "array([ 16.910494, -20.851742], dtype=float32)"
      ]
     },
     "execution_count": 321,
     "metadata": {},
     "output_type": "execute_result"
    }
   ],
   "source": [
    "Bias"
   ]
  },
  {
   "cell_type": "code",
   "execution_count": 324,
   "metadata": {},
   "outputs": [
    {
     "data": {
      "text/plain": [
       "1.0"
      ]
     },
     "execution_count": 324,
     "metadata": {},
     "output_type": "execute_result"
    }
   ],
   "source": [
    "np.exp(0)"
   ]
  },
  {
   "cell_type": "code",
   "execution_count": null,
   "metadata": {},
   "outputs": [],
   "source": []
  }
 ],
 "metadata": {
  "kernelspec": {
   "display_name": "Python 3",
   "language": "python",
   "name": "python3"
  }
 },
 "nbformat": 4,
 "nbformat_minor": 2
}
